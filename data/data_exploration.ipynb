{
 "cells": [
  {
   "cell_type": "code",
   "execution_count": 1,
   "metadata": {},
   "outputs": [],
   "source": [
    "import pandas as pd\n",
    "import numpy as np\n",
    "import matplotlib.pyplot as plt"
   ]
  },
  {
   "cell_type": "code",
   "execution_count": 9,
   "metadata": {},
   "outputs": [],
   "source": [
    "train_data = pd.read_csv('train.csv')\n",
    "test_data = pd.read_csv('test.csv')\n",
    "submission = pd.read_csv('gender_submission.csv')"
   ]
  },
  {
   "attachments": {},
   "cell_type": "markdown",
   "metadata": {},
   "source": [
    "Training data"
   ]
  },
  {
   "cell_type": "code",
   "execution_count": 7,
   "metadata": {},
   "outputs": [
    {
     "name": "stdout",
     "output_type": "stream",
     "text": [
      "    PassengerId  Survived  Pclass                                                       Name     Sex   Age  SibSp  Parch            Ticket      Fare        Cabin Embarked\n",
      "0             1         0       3                                    Braund, Mr. Owen Harris    male  22.0      1      0         A/5 21171    7.2500          NaN        S\n",
      "1             2         1       1        Cumings, Mrs. John Bradley (Florence Briggs Thayer)  female  38.0      1      0          PC 17599   71.2833          C85        C\n",
      "2             3         1       3                                     Heikkinen, Miss. Laina  female  26.0      0      0  STON/O2. 3101282    7.9250          NaN        S\n",
      "3             4         1       1               Futrelle, Mrs. Jacques Heath (Lily May Peel)  female  35.0      1      0            113803   53.1000         C123        S\n",
      "4             5         0       3                                   Allen, Mr. William Henry    male  35.0      0      0            373450    8.0500          NaN        S\n",
      "5             6         0       3                                           Moran, Mr. James    male   NaN      0      0            330877    8.4583          NaN        Q\n",
      "6             7         0       1                                    McCarthy, Mr. Timothy J    male  54.0      0      0             17463   51.8625          E46        S\n",
      "7             8         0       3                             Palsson, Master. Gosta Leonard    male   2.0      3      1            349909   21.0750          NaN        S\n",
      "8             9         1       3          Johnson, Mrs. Oscar W (Elisabeth Vilhelmina Berg)  female  27.0      0      2            347742   11.1333          NaN        S\n",
      "9            10         1       2                        Nasser, Mrs. Nicholas (Adele Achem)  female  14.0      1      0            237736   30.0708          NaN        C\n",
      "10           11         1       3                            Sandstrom, Miss. Marguerite Rut  female   4.0      1      1           PP 9549   16.7000           G6        S\n",
      "11           12         1       1                                   Bonnell, Miss. Elizabeth  female  58.0      0      0            113783   26.5500         C103        S\n",
      "12           13         0       3                             Saundercock, Mr. William Henry    male  20.0      0      0         A/5. 2151    8.0500          NaN        S\n",
      "13           14         0       3                                Andersson, Mr. Anders Johan    male  39.0      1      5            347082   31.2750          NaN        S\n",
      "14           15         0       3                       Vestrom, Miss. Hulda Amanda Adolfina  female  14.0      0      0            350406    7.8542          NaN        S\n",
      "15           16         1       2                           Hewlett, Mrs. (Mary D Kingcome)   female  55.0      0      0            248706   16.0000          NaN        S\n",
      "16           17         0       3                                       Rice, Master. Eugene    male   2.0      4      1            382652   29.1250          NaN        Q\n",
      "17           18         1       2                               Williams, Mr. Charles Eugene    male   NaN      0      0            244373   13.0000          NaN        S\n",
      "18           19         0       3    Vander Planke, Mrs. Julius (Emelia Maria Vandemoortele)  female  31.0      1      0            345763   18.0000          NaN        S\n",
      "19           20         1       3                                    Masselmani, Mrs. Fatima  female   NaN      0      0              2649    7.2250          NaN        C\n",
      "20           21         0       2                                       Fynney, Mr. Joseph J    male  35.0      0      0            239865   26.0000          NaN        S\n",
      "21           22         1       2                                      Beesley, Mr. Lawrence    male  34.0      0      0            248698   13.0000          D56        S\n",
      "22           23         1       3                                McGowan, Miss. Anna \"Annie\"  female  15.0      0      0            330923    8.0292          NaN        Q\n",
      "23           24         1       1                               Sloper, Mr. William Thompson    male  28.0      0      0            113788   35.5000           A6        S\n",
      "24           25         0       3                              Palsson, Miss. Torborg Danira  female   8.0      3      1            349909   21.0750          NaN        S\n",
      "25           26         1       3  Asplund, Mrs. Carl Oscar (Selma Augusta Emilia Johansson)  female  38.0      1      5            347077   31.3875          NaN        S\n",
      "26           27         0       3                                    Emir, Mr. Farred Chehab    male   NaN      0      0              2631    7.2250          NaN        C\n",
      "27           28         0       1                             Fortune, Mr. Charles Alexander    male  19.0      3      2             19950  263.0000  C23 C25 C27        S\n",
      "28           29         1       3                              O'Dwyer, Miss. Ellen \"Nellie\"  female   NaN      0      0            330959    7.8792          NaN        Q\n",
      "29           30         0       3                                        Todoroff, Mr. Lalio    male   NaN      0      0            349216    7.8958          NaN        S\n",
      "30           31         0       1                                   Uruchurtu, Don. Manuel E    male  40.0      0      0          PC 17601   27.7208          NaN        C\n",
      "31           32         1       1             Spencer, Mrs. William Augustus (Marie Eugenie)  female   NaN      1      0          PC 17569  146.5208          B78        C\n",
      "32           33         1       3                                   Glynn, Miss. Mary Agatha  female   NaN      0      0            335677    7.7500          NaN        Q\n",
      "33           34         0       2                                      Wheadon, Mr. Edward H    male  66.0      0      0        C.A. 24579   10.5000          NaN        S\n",
      "34           35         0       1                                    Meyer, Mr. Edgar Joseph    male  28.0      1      0          PC 17604   82.1708          NaN        C\n",
      "35           36         0       1                             Holverson, Mr. Alexander Oskar    male  42.0      1      0            113789   52.0000          NaN        S\n",
      "36           37         1       3                                           Mamee, Mr. Hanna    male   NaN      0      0              2677    7.2292          NaN        C\n",
      "37           38         0       3                                   Cann, Mr. Ernest Charles    male  21.0      0      0        A./5. 2152    8.0500          NaN        S\n",
      "38           39         0       3                         Vander Planke, Miss. Augusta Maria  female  18.0      2      0            345764   18.0000          NaN        S\n",
      "39           40         1       3                                Nicola-Yarred, Miss. Jamila  female  14.0      1      0              2651   11.2417          NaN        C\n",
      "40           41         0       3             Ahlin, Mrs. Johan (Johanna Persdotter Larsson)  female  40.0      1      0              7546    9.4750          NaN        S\n",
      "41           42         0       2   Turpin, Mrs. William John Robert (Dorothy Ann Wonnacott)  female  27.0      1      0             11668   21.0000          NaN        S\n",
      "42           43         0       3                                        Kraeff, Mr. Theodor    male   NaN      0      0            349253    7.8958          NaN        C\n",
      "43           44         1       2                   Laroche, Miss. Simonne Marie Anne Andree  female   3.0      1      2     SC/Paris 2123   41.5792          NaN        C\n",
      "44           45         1       3                              Devaney, Miss. Margaret Delia  female  19.0      0      0            330958    7.8792          NaN        Q\n",
      "45           46         0       3                                   Rogers, Mr. William John    male   NaN      0      0   S.C./A.4. 23567    8.0500          NaN        S\n",
      "46           47         0       3                                          Lennon, Mr. Denis    male   NaN      1      0            370371   15.5000          NaN        Q\n",
      "47           48         1       3                                  O'Driscoll, Miss. Bridget  female   NaN      0      0             14311    7.7500          NaN        Q\n",
      "48           49         0       3                                        Samaan, Mr. Youssef    male   NaN      2      0              2662   21.6792          NaN        C\n",
      "49           50         0       3              Arnold-Franchi, Mrs. Josef (Josefine Franchi)  female  18.0      1      0            349237   17.8000          NaN        S\n"
     ]
    }
   ],
   "source": [
    "print(train_data[:50].to_string())"
   ]
  },
  {
   "cell_type": "code",
   "execution_count": 8,
   "metadata": {},
   "outputs": [
    {
     "name": "stdout",
     "output_type": "stream",
     "text": [
      "    PassengerId  Pclass                                                     Name     Sex   Age  SibSp  Parch              Ticket      Fare            Cabin Embarked\n",
      "0           892       3                                         Kelly, Mr. James    male  34.5      0      0              330911    7.8292              NaN        Q\n",
      "1           893       3                         Wilkes, Mrs. James (Ellen Needs)  female  47.0      1      0              363272    7.0000              NaN        S\n",
      "2           894       2                                Myles, Mr. Thomas Francis    male  62.0      0      0              240276    9.6875              NaN        Q\n",
      "3           895       3                                         Wirz, Mr. Albert    male  27.0      0      0              315154    8.6625              NaN        S\n",
      "4           896       3             Hirvonen, Mrs. Alexander (Helga E Lindqvist)  female  22.0      1      1             3101298   12.2875              NaN        S\n",
      "5           897       3                               Svensson, Mr. Johan Cervin    male  14.0      0      0                7538    9.2250              NaN        S\n",
      "6           898       3                                     Connolly, Miss. Kate  female  30.0      0      0              330972    7.6292              NaN        Q\n",
      "7           899       2                             Caldwell, Mr. Albert Francis    male  26.0      1      1              248738   29.0000              NaN        S\n",
      "8           900       3                Abrahim, Mrs. Joseph (Sophie Halaut Easu)  female  18.0      0      0                2657    7.2292              NaN        C\n",
      "9           901       3                                  Davies, Mr. John Samuel    male  21.0      2      0           A/4 48871   24.1500              NaN        S\n",
      "10          902       3                                         Ilieff, Mr. Ylio    male   NaN      0      0              349220    7.8958              NaN        S\n",
      "11          903       1                               Jones, Mr. Charles Cresson    male  46.0      0      0                 694   26.0000              NaN        S\n",
      "12          904       1            Snyder, Mrs. John Pillsbury (Nelle Stevenson)  female  23.0      1      0               21228   82.2667              B45        S\n",
      "13          905       2                                     Howard, Mr. Benjamin    male  63.0      1      0               24065   26.0000              NaN        S\n",
      "14          906       1  Chaffee, Mrs. Herbert Fuller (Carrie Constance Toogood)  female  47.0      1      0         W.E.P. 5734   61.1750              E31        S\n",
      "15          907       2            del Carlo, Mrs. Sebastiano (Argenia Genovesi)  female  24.0      1      0       SC/PARIS 2167   27.7208              NaN        C\n",
      "16          908       2                                        Keane, Mr. Daniel    male  35.0      0      0              233734   12.3500              NaN        Q\n",
      "17          909       3                                        Assaf, Mr. Gerios    male  21.0      0      0                2692    7.2250              NaN        C\n",
      "18          910       3                             Ilmakangas, Miss. Ida Livija  female  27.0      1      0    STON/O2. 3101270    7.9250              NaN        S\n",
      "19          911       3                    Assaf Khalil, Mrs. Mariana (Miriam\")\"  female  45.0      0      0                2696    7.2250              NaN        C\n",
      "20          912       1                                   Rothschild, Mr. Martin    male  55.0      1      0            PC 17603   59.4000              NaN        C\n",
      "21          913       3                                Olsen, Master. Artur Karl    male   9.0      0      1             C 17368    3.1708              NaN        S\n",
      "22          914       1                     Flegenheim, Mrs. Alfred (Antoinette)  female   NaN      0      0            PC 17598   31.6833              NaN        S\n",
      "23          915       1                          Williams, Mr. Richard Norris II    male  21.0      0      1            PC 17597   61.3792              NaN        C\n",
      "24          916       1          Ryerson, Mrs. Arthur Larned (Emily Maria Borie)  female  48.0      1      3            PC 17608  262.3750  B57 B59 B63 B66        C\n",
      "25          917       3                                  Robins, Mr. Alexander A    male  50.0      1      0           A/5. 3337   14.5000              NaN        S\n",
      "26          918       1                             Ostby, Miss. Helene Ragnhild  female  22.0      0      1              113509   61.9792              B36        C\n",
      "27          919       3                                        Daher, Mr. Shedid    male  22.5      0      0                2698    7.2250              NaN        C\n",
      "28          920       1                                  Brady, Mr. John Bertram    male  41.0      0      0              113054   30.5000              A21        S\n",
      "29          921       3                                        Samaan, Mr. Elias    male   NaN      2      0                2662   21.6792              NaN        C\n",
      "30          922       2                             Louch, Mr. Charles Alexander    male  50.0      1      0          SC/AH 3085   26.0000              NaN        S\n",
      "31          923       2                            Jefferys, Mr. Clifford Thomas    male  24.0      2      0          C.A. 31029   31.5000              NaN        S\n",
      "32          924       3                 Dean, Mrs. Bertram (Eva Georgetta Light)  female  33.0      1      2           C.A. 2315   20.5750              NaN        S\n",
      "33          925       3        Johnston, Mrs. Andrew G (Elizabeth Lily\" Watson)\"  female   NaN      1      2          W./C. 6607   23.4500              NaN        S\n",
      "34          926       1                                 Mock, Mr. Philipp Edmund    male  30.0      1      0               13236   57.7500              C78        C\n",
      "35          927       3         Katavelas, Mr. Vassilios (Catavelas Vassilios\")\"    male  18.5      0      0                2682    7.2292              NaN        C\n",
      "36          928       3                                      Roth, Miss. Sarah A  female   NaN      0      0              342712    8.0500              NaN        S\n",
      "37          929       3                                       Cacic, Miss. Manda  female  21.0      0      0              315087    8.6625              NaN        S\n",
      "38          930       3                                          Sap, Mr. Julius    male  25.0      0      0              345768    9.5000              NaN        S\n",
      "39          931       3                                            Hee, Mr. Ling    male   NaN      0      0                1601   56.4958              NaN        S\n",
      "40          932       3                                         Karun, Mr. Franz    male  39.0      0      1              349256   13.4167              NaN        C\n",
      "41          933       1                              Franklin, Mr. Thomas Parham    male   NaN      0      0              113778   26.5500              D34        S\n",
      "42          934       3                                    Goldsmith, Mr. Nathan    male  41.0      0      0  SOTON/O.Q. 3101263    7.8500              NaN        S\n",
      "43          935       2                    Corbett, Mrs. Walter H (Irene Colvin)  female  30.0      0      0              237249   13.0000              NaN        S\n",
      "44          936       1         Kimball, Mrs. Edwin Nelson Jr (Gertrude Parsons)  female  45.0      1      0               11753   52.5542              D19        S\n",
      "45          937       3                          Peltomaki, Mr. Nikolai Johannes    male  25.0      0      0   STON/O 2. 3101291    7.9250              NaN        S\n",
      "46          938       1                                 Chevre, Mr. Paul Romaine    male  45.0      0      0            PC 17594   29.7000               A9        C\n",
      "47          939       3                                 Shaughnessy, Mr. Patrick    male   NaN      0      0              370374    7.7500              NaN        Q\n",
      "48          940       1          Bucknell, Mrs. William Robert (Emma Eliza Ward)  female  60.0      0      0               11813   76.2917              D15        C\n",
      "49          941       3           Coutts, Mrs. William (Winnie Minnie\" Treanor)\"  female  36.0      0      2          C.A. 37671   15.9000              NaN        S\n"
     ]
    }
   ],
   "source": [
    "print(test_data[:50].to_string())"
   ]
  },
  {
   "cell_type": "code",
   "execution_count": 10,
   "metadata": {},
   "outputs": [
    {
     "name": "stdout",
     "output_type": "stream",
     "text": [
      "    PassengerId  Survived\n",
      "0           892         0\n",
      "1           893         1\n",
      "2           894         0\n",
      "3           895         0\n",
      "4           896         1\n",
      "5           897         0\n",
      "6           898         1\n",
      "7           899         0\n",
      "8           900         1\n",
      "9           901         0\n",
      "10          902         0\n",
      "11          903         0\n",
      "12          904         1\n",
      "13          905         0\n",
      "14          906         1\n",
      "15          907         1\n",
      "16          908         0\n",
      "17          909         0\n",
      "18          910         1\n",
      "19          911         1\n",
      "20          912         0\n",
      "21          913         0\n",
      "22          914         1\n",
      "23          915         0\n",
      "24          916         1\n",
      "25          917         0\n",
      "26          918         1\n",
      "27          919         0\n",
      "28          920         0\n",
      "29          921         0\n",
      "30          922         0\n",
      "31          923         0\n",
      "32          924         1\n",
      "33          925         1\n",
      "34          926         0\n",
      "35          927         0\n",
      "36          928         1\n",
      "37          929         1\n",
      "38          930         0\n",
      "39          931         0\n",
      "40          932         0\n",
      "41          933         0\n",
      "42          934         0\n",
      "43          935         1\n",
      "44          936         1\n",
      "45          937         0\n",
      "46          938         0\n",
      "47          939         0\n",
      "48          940         1\n",
      "49          941         1\n"
     ]
    }
   ],
   "source": [
    "print(submission[:50].to_string())"
   ]
  }
 ],
 "metadata": {
  "kernelspec": {
   "display_name": "base",
   "language": "python",
   "name": "python3"
  },
  "language_info": {
   "codemirror_mode": {
    "name": "ipython",
    "version": 3
   },
   "file_extension": ".py",
   "mimetype": "text/x-python",
   "name": "python",
   "nbconvert_exporter": "python",
   "pygments_lexer": "ipython3",
   "version": "3.9.12"
  },
  "orig_nbformat": 4
 },
 "nbformat": 4,
 "nbformat_minor": 2
}
